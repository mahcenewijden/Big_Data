{
 "cells": [
  {
   "cell_type": "code",
   "execution_count": null,
   "id": "c69e0a1b",
   "metadata": {},
   "outputs": [],
   "source": [
    "pip install dask[dataframe]"
   ]
  },
  {
   "cell_type": "code",
   "execution_count": 3,
   "id": "3c71a104",
   "metadata": {},
   "outputs": [
    {
     "name": "stdout",
     "output_type": "stream",
     "text": [
      "Time taken with Dask:192.54seconds\n"
     ]
    }
   ],
   "source": [
    "import dask.dataframe as dd\n",
    "import time\n",
    "\n",
    "start_time = time.time()\n",
    "\n",
    "df = dd.read_csv('D:/read_large_csv/2019-Oct.csv')\n",
    "\n",
    "filtered_df = df[df['price'] > 50]\n",
    "\n",
    "result = filtered_df.compute()\n",
    "\n",
    "end_time = time.time()\n",
    "print(\"Time taken with Dask:\" f\"{end_time - start_time:.2f}\"\"seconds\")"
   ]
  },
  {
   "cell_type": "code",
   "execution_count": null,
   "id": "141fc56b",
   "metadata": {},
   "outputs": [],
   "source": [
    "\n",
    "pip install memory_profiler\n"
   ]
  },
  {
   "cell_type": "code",
   "execution_count": 8,
   "id": "ffb6c328",
   "metadata": {},
   "outputs": [],
   "source": [
    "%load_ext memory_profiler"
   ]
  },
  {
   "cell_type": "code",
   "execution_count": 9,
   "id": "bea671c6",
   "metadata": {},
   "outputs": [
    {
     "name": "stdout",
     "output_type": "stream",
     "text": [
      "peak memory: 10474.86 MiB, increment: 4092.56 MiB\n"
     ]
    }
   ],
   "source": [
    "%memit dd.read_csv('D:/read_large_csv/2019-Oct.csv').compute()"
   ]
  }
 ],
 "metadata": {
  "kernelspec": {
   "display_name": "Python 3",
   "language": "python",
   "name": "python3"
  },
  "language_info": {
   "codemirror_mode": {
    "name": "ipython",
    "version": 3
   },
   "file_extension": ".py",
   "mimetype": "text/x-python",
   "name": "python",
   "nbconvert_exporter": "python",
   "pygments_lexer": "ipython3",
   "version": "3.13.3"
  }
 },
 "nbformat": 4,
 "nbformat_minor": 5
}
