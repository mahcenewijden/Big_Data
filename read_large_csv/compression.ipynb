{
 "cells": [
  {
   "cell_type": "code",
   "execution_count": 1,
   "id": "a9423036",
   "metadata": {},
   "outputs": [],
   "source": [
    "import pandas as pd\n",
    "import os\n",
    "import gzip\n",
    "import shutil\n",
    "import time"
   ]
  },
  {
   "cell_type": "code",
   "execution_count": 2,
   "id": "d273fd92",
   "metadata": {},
   "outputs": [],
   "source": [
    "FILE_NAME = 'D:/read_large_csv/2019-Oct.csv'\n",
    "COMPRESSED_NAME = f\"{FILE_NAME}.gz\""
   ]
  },
  {
   "cell_type": "code",
   "execution_count": 3,
   "id": "2ac84af4",
   "metadata": {},
   "outputs": [
    {
     "name": "stdout",
     "output_type": "stream",
     "text": [
      "File found: D:/read_large_csv/2019-Oct.csv (5406.01 MB)\n"
     ]
    }
   ],
   "source": [
    "if not os.path.exists(FILE_NAME):\n",
    "    raise FileNotFoundError(f\"{FILE_NAME} not found in {os.getcwd()}\")\n",
    "\n",
    "file_size = os.path.getsize(FILE_NAME) / (1024**2)  # MB\n",
    "print(f\"File found: {FILE_NAME} ({file_size:.2f} MB)\")  "
   ]
  },
  {
   "cell_type": "code",
   "execution_count": 4,
   "id": "fad5fa48",
   "metadata": {},
   "outputs": [
    {
     "name": "stdout",
     "output_type": "stream",
     "text": [
      "\n",
      "Loaded in: 264.96s | Filtered in: 9.86s\n",
      "Sample data:\n",
      "                event_time event_type  product_id          category_id  \\\n",
      "2  2019-10-01 00:00:01 UTC       view    17200506  2053013559792632471   \n",
      "3  2019-10-01 00:00:01 UTC       view     1307067  2053013558920217191   \n",
      "\n",
      "                category_code   brand   price    user_id  \\\n",
      "2  furniture.living_room.sofa     NaN  543.10  519107250   \n",
      "3          computers.notebook  lenovo  251.74  550050854   \n",
      "\n",
      "                           user_session  \n",
      "2  566511c2-e2e3-422b-b695-cf8e6e792ca8  \n",
      "3  7c90fc70-0e80-4590-96f3-13c02c18c713  \n"
     ]
    }
   ],
   "source": [
    "\n",
    "if not os.path.exists(FILE_NAME):\n",
    "    raise FileNotFoundError(f\"File {FILE_NAME} not found!\")\n",
    "\n",
    "# Compress\n",
    "try:\n",
    "    with open(FILE_NAME, 'rb') as f_in, gzip.open(COMPRESSED_NAME, 'wb') as f_out:\n",
    "        shutil.copyfileobj(f_in, f_out)\n",
    "except Exception as e:\n",
    "    print(f\"Compression failed: {e}\")\n",
    "    exit()\n",
    "\n",
    "# Time file reading\n",
    "start_load = time.time()\n",
    "try:\n",
    "    df = pd.read_csv(COMPRESSED_NAME, compression='gzip')\n",
    "except Exception as e:\n",
    "    print(f\"Reading failed: {e}\")\n",
    "    exit()\n",
    "load_time = time.time() - start_load\n",
    "\n",
    "# Time data processing\n",
    "start_process = time.time()\n",
    "if 'price' not in df.columns:\n",
    "    raise KeyError(\"'price' column missing\")\n",
    "filtered_df = df[df['price'] > 50]\n",
    "process_time = time.time() - start_process\n",
    "\n",
    "print(f\"\\nLoaded in: {load_time:.2f}s | Filtered in: {process_time:.2f}s\")\n",
    "print(\"Sample data:\")\n",
    "print(filtered_df.head(2))"
   ]
  }
 ],
 "metadata": {
  "kernelspec": {
   "display_name": "Python 3",
   "language": "python",
   "name": "python3"
  },
  "language_info": {
   "codemirror_mode": {
    "name": "ipython",
    "version": 3
   },
   "file_extension": ".py",
   "mimetype": "text/x-python",
   "name": "python",
   "nbconvert_exporter": "python",
   "pygments_lexer": "ipython3",
   "version": "3.13.3"
  }
 },
 "nbformat": 4,
 "nbformat_minor": 5
}
